{
 "cells": [
  {
   "cell_type": "code",
   "execution_count": 1,
   "id": "82f05866-d3a6-44a4-ac2d-2a22a775cec2",
   "metadata": {},
   "outputs": [],
   "source": [
    "import scipy.stats as stat\n",
    "import numpy as np"
   ]
  },
  {
   "cell_type": "code",
   "execution_count": 2,
   "id": "b0b8c4ed-52b6-4d9b-b6ae-64471a9cc609",
   "metadata": {},
   "outputs": [],
   "source": [
    "# no of haour student study weekly basis\n",
    "# monday, tuesday, wednesday, thursday, friday, saturday, sunday\n",
    "expected_data=[8,6,7,9,6,9,7]\n",
    "observed_data=[7,8,6,9,9,6,7]"
   ]
  },
  {
   "cell_type": "code",
   "execution_count": 3,
   "id": "59781d58-a63d-4fbf-9e93-f236985c2207",
   "metadata": {},
   "outputs": [
    {
     "data": {
      "text/plain": [
       "(52, 52)"
      ]
     },
     "execution_count": 3,
     "metadata": {},
     "output_type": "execute_result"
    }
   ],
   "source": [
    "sum(expected_data), sum(observed_data)\n"
   ]
  },
  {
   "cell_type": "code",
   "execution_count": 5,
   "id": "cefc7500-fd3b-4206-95bd-b252fccf6488",
   "metadata": {},
   "outputs": [],
   "source": [
    "chisquare_test_statistics, p_value=stat.chisquare(expected_data,observed_data)"
   ]
  },
  {
   "cell_type": "code",
   "execution_count": 6,
   "id": "49333c29-0cfe-41a7-bfca-ae5d47f8d01f",
   "metadata": {},
   "outputs": [
    {
     "data": {
      "text/plain": [
       "(3.3095238095238093, 0.769114675518927)"
      ]
     },
     "execution_count": 6,
     "metadata": {},
     "output_type": "execute_result"
    }
   ],
   "source": [
    "chisquare_test_statistics, p_value"
   ]
  },
  {
   "cell_type": "code",
   "execution_count": 8,
   "id": "1b1e9dd4-f464-4a0e-bfc5-811355a540fc",
   "metadata": {},
   "outputs": [
    {
     "name": "stdout",
     "output_type": "stream",
     "text": [
      "6\n"
     ]
    }
   ],
   "source": [
    "# find the critical value\n",
    "significance_value = 0.05\n",
    "dof=len(expected_data)-1\n",
    "print(dof)\n",
    "critical_value= stat.chi2.ppf(1-significance_value, dof)"
   ]
  },
  {
   "cell_type": "code",
   "execution_count": 9,
   "id": "71c79385-5b57-4cef-a287-84f00ffa67ec",
   "metadata": {},
   "outputs": [
    {
     "data": {
      "text/plain": [
       "12.591587243743977"
      ]
     },
     "execution_count": 9,
     "metadata": {},
     "output_type": "execute_result"
    }
   ],
   "source": [
    "critical_value"
   ]
  },
  {
   "cell_type": "code",
   "execution_count": 11,
   "id": "f285b678-eaa4-499d-9616-82e086e945e5",
   "metadata": {},
   "outputs": [
    {
     "name": "stdout",
     "output_type": "stream",
     "text": [
      "We fail to reject the null hypothesis\n"
     ]
    }
   ],
   "source": [
    "if chisquare_test_statistics > critical_value:\n",
    "    print(\"Reject the null hypothesis\")\n",
    "else:\n",
    "    print(\"We fail to reject the null hypothesis\")\n"
   ]
  },
  {
   "cell_type": "code",
   "execution_count": null,
   "id": "f411a4fd-7907-4826-bf65-762c2920279e",
   "metadata": {},
   "outputs": [],
   "source": []
  }
 ],
 "metadata": {
  "kernelspec": {
   "display_name": "Python 3 (ipykernel)",
   "language": "python",
   "name": "python3"
  },
  "language_info": {
   "codemirror_mode": {
    "name": "ipython",
    "version": 3
   },
   "file_extension": ".py",
   "mimetype": "text/x-python",
   "name": "python",
   "nbconvert_exporter": "python",
   "pygments_lexer": "ipython3",
   "version": "3.10.8"
  }
 },
 "nbformat": 4,
 "nbformat_minor": 5
}
